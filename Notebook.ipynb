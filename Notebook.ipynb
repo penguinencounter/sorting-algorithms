{
 "cells": [
  {
   "cell_type": "markdown",
   "id": "70b08c29-4b21-429a-a43a-0d62e0c02235",
   "metadata": {},
   "source": [
    "# (sorting) Algorithms"
   ]
  },
  {
   "cell_type": "markdown",
   "id": "65cdf427-397f-440a-9680-0bac59abed28",
   "metadata": {},
   "source": [
    "### Outline\n",
    "1. Goals\n",
    "2. Benchmarking strategies\n",
    "3. References\n",
    "4. Actual sorting algorithms"
   ]
  },
  {
   "cell_type": "markdown",
   "id": "3c7214df-2b37-4696-8aa4-477970a3d0a2",
   "metadata": {},
   "source": [
    "## Goals\n",
    "* Goal 1: Understand \"big O notation\"\n",
    "* Goal 2: Implement sorting algorithms.\n",
    "* Goal 3: Understand benchmarking strategies for algorithms\n",
    "\n",
    "## Benchmarking strategies\n",
    "Multiple strategies for evaluating the performance of algorithms were considered.\n",
    "1. Time: \n",
    "Time is probably the first thing that comes to mind when evaluating performance. However, the amount of time an alogrithm takes is very suceptable to\n",
    "external forces, like other processes using resources.\n",
    "2. List Swap Count: \n",
    "This was the second thing I thought of - how many times do we modify the list? However, this did not yield expected results.\n",
    "The data is collected anyway.\n",
    "3. Comparison Count:\n",
    "This is the third method, and generally yeilded the results I wanted."
   ]
  },
  {
   "cell_type": "markdown",
   "id": "907ce659-bdb5-4d60-a7d5-8660b1502e9c",
   "metadata": {},
   "source": [
    "### Big O Notation\n",
    "Big O notation is used to show how time requirements expand as the input size grows. For example, `O(N)` is \"linear time\",\n",
    "and `O(N^2)` is \"exponential time\", etc.\n",
    "\n",
    "I have no idea what the fancy words on the wikipedia article for Big O notation mean, so I just think of it like a function\n",
    "from the amount of data to the amount of time an algorithm takes.\n",
    "\n",
    "[Table of common time complexities (Wikipedia)](https://en.wikipedia.org/wiki/Time_complexity#Table_of_common_time_complexities)"
   ]
  },
  {
   "cell_type": "markdown",
   "id": "ebc4a5d3-7db4-4170-aa24-d46f9bc795d4",
   "metadata": {},
   "source": [
    "# Why\n",
    "Understanding many sorting algorithms is important when you need to choose one to implement.\n",
    "For example, some algorithms are faster but consume a lot of memory (or stack frames).\n",
    "\n",
    "Many programs require a sorting algorithm to work, and choosing the correct one for the job\n",
    "is very important to having a performant program."
   ]
  },
  {
   "cell_type": "markdown",
   "id": "48b3e9ac-f15f-43bb-94a7-6da5cc35499c",
   "metadata": {},
   "source": [
    "Also, most of the sorting algorithms in this document come from Robert Sedgewick's book *Algorithms in C++* and were adapted to Python.\n",
    "However, some of the more complicated implementations, like Quicksort, were not explained well in that book, so:\n",
    "\n",
    "* Quicksort https://www.khanacademy.org/computing/computer-science/algorithms/quick-sort\n",
    "* Mergesort https://en.wikipedia.org/wiki/Merge_sort\n",
    "* Shellsort https://en.wikipedia.org/wiki/Shellsort"
   ]
  },
  {
   "cell_type": "code",
   "execution_count": 1,
   "id": "84b4ec28",
   "metadata": {},
   "outputs": [],
   "source": [
    "import general\n",
    "from caching import update_required, prep, save, load_previous\n",
    "import sys\n",
    "\n",
    "prep()"
   ]
  },
  {
   "cell_type": "markdown",
   "id": "3e9d03ea-5192-4e39-8a33-d2d7894956de",
   "metadata": {},
   "source": [
    "### Recursion Limit\n",
    "The current implementation of Quicksort uses worst-case `N` recursive calls.\n",
    "On larger lists, this causes the recursion depth limit to be reached.\n",
    "\n",
    "Also, IPython on Windows crashes if you hit the recursion depth limit.\n",
    "\n",
    "`¯\\_(ツ)_/¯`\n",
    "\n",
    "Make sure you have enough memory, I guess"
   ]
  },
  {
   "cell_type": "markdown",
   "id": "da210de7-33d6-41e8-8a2a-f7297291931c",
   "metadata": {},
   "source": [
    "## Config\n",
    "* `SEED` is the seed for the dataset generator.\n",
    "* `REPS` is how many repetitions are needed for each dataset size."
   ]
  },
  {
   "cell_type": "code",
   "execution_count": 3,
   "id": "bb76de2f",
   "metadata": {},
   "outputs": [],
   "source": [
    "SEED = 2\n",
    "REPS = 16"
   ]
  },
  {
   "cell_type": "markdown",
   "id": "a73ba34d-2147-46b9-978c-f65ff60736b4",
   "metadata": {},
   "source": [
    "#### `size_provider` and `generate_testing_data`\n",
    "The size provider tells the dataset generator which sizes to use. Generally, data is more interesting when the test points are spaced reasonably far apart. The `general.generate_testing_data` function builds random datasets from a list of sizes.\n",
    "Each size in the list will be turned into a varying number of sets based on the `REPS` config."
   ]
  },
  {
   "cell_type": "code",
   "execution_count": 4,
   "id": "aabeb5ff",
   "metadata": {},
   "outputs": [],
   "source": [
    "def size_provider():\n",
    "    yield 0  # required for benchmark to determine total size of datasets\n",
    "    i = 1\n",
    "    while 1:\n",
    "        yield round(i)\n",
    "        i *= 4/3\n",
    "        if i > 10000:\n",
    "            break\n"
   ]
  },
  {
   "cell_type": "code",
   "execution_count": 5,
   "id": "82124b9b",
   "metadata": {
    "scrolled": true
   },
   "outputs": [
    {
     "name": "stdout",
     "output_type": "stream",
     "text": [
      "Generating testing data. This may take a while.\n",
      "Need to generate 544 total datasets\n",
      "generated 544 datasets in 0.78s                                                                     \n",
      "Generating edge cases.\n",
      "Generators:\n",
      "   - sorted\n",
      "   - reversed\n",
      "   - all_eq\n",
      "done, took 0.12s                                                                                    \n"
     ]
    }
   ],
   "source": [
    "datasets = general.generate_testing_data(list(size_provider()), REPS, SEED, quiet=2)\n",
    "edges = general.generate_edge_cases(list(size_provider()), quiet=2)\n",
    "\n",
    "results = {}\n",
    "edge_results = {}"
   ]
  },
  {
   "cell_type": "markdown",
   "id": "35995c26-a8ac-4559-b6a2-6f192e488e61",
   "metadata": {},
   "source": [
    "`autorun_or_cache` uses cached results if possible to provide data that has already been collected. To run everything again, clear out the `.run_cache` directory or change the seed to a value that has not been used before."
   ]
  },
  {
   "cell_type": "code",
   "execution_count": 6,
   "id": "6812e9e6",
   "metadata": {},
   "outputs": [],
   "source": [
    "def autorun_or_cache(f, fname, datasets, seed, quiet=1):\n",
    "    if update_required(fname, seed):\n",
    "        print(f'Cache missed for {fname}')\n",
    "        try:\n",
    "            result = general.bench(f, datasets, quiet=quiet)\n",
    "            save(fname, seed, result)\n",
    "            print(f'Saved {fname} to cache')\n",
    "        except RecursionError:\n",
    "            print(f'!! Recursion depth limit reached - cancelling !!')\n",
    "            return 0, 0\n",
    "        return result\n",
    "    else:\n",
    "        print(f'Cache hit for {fname}')\n",
    "        print(f'Retrieving {fname} from cache')\n",
    "        return load_previous(fname, seed)"
   ]
  },
  {
   "cell_type": "code",
   "execution_count": 7,
   "id": "6921e996-16da-4a7a-ac52-893a0375557b",
   "metadata": {},
   "outputs": [],
   "source": [
    "def run_edge_cases(f, fname, edges, seed, quiet=1):\n",
    "    result = {}\n",
    "    for k, v in edges.items():\n",
    "        result[k] = autorun_or_cache(f, fname + \"_edge_\" + k, v, seed, quiet)\n",
    "    print(\"Done!\")\n",
    "    return result"
   ]
  },
  {
   "cell_type": "markdown",
   "id": "9b06b7b8-0eb9-4674-b9ac-606fcd53720c",
   "metadata": {},
   "source": [
    "#### Bubble sort.\n",
    "Algorithm Details:\n",
    "```\n",
    "Repeat until finished:\n",
    "    - For each item in the list:\n",
    "        - If the item is less than the next one:\n",
    "            - Swap the current item and the next one\n",
    "    - Stop when no swaps occur in an iteration\n",
    "```"
   ]
  },
  {
   "cell_type": "code",
   "execution_count": 8,
   "id": "d60268a5-3be7-4098-a7ec-3998eab92092",
   "metadata": {},
   "outputs": [],
   "source": [
    "def bubble(a: list):\n",
    "    chks = 0\n",
    "    swps = 0\n",
    "    data = copy.copy(a)\n",
    "    n = len(data)\n",
    "    while 1:\n",
    "        swapped = False\n",
    "        for i in range(n-1):\n",
    "            chks += 1\n",
    "            if data[i] > data[i+1]:\n",
    "                general.swp(data, i, i+1)\n",
    "                swapped = True\n",
    "                swps += 1\n",
    "        if not swapped: break\n",
    "    return data, swps, chks"
   ]
  },
  {
   "cell_type": "code",
   "execution_count": 9,
   "id": "7d2518cb",
   "metadata": {},
   "outputs": [
    {
     "name": "stdout",
     "output_type": "stream",
     "text": [
      "Cache hit for bubble\n",
      "Retrieving bubble from cache\n",
      "Cache hit for bubble_edge_sorted\n",
      "Retrieving bubble_edge_sorted from cache\n",
      "Cache hit for bubble_edge_reversed\n",
      "Retrieving bubble_edge_reversed from cache\n",
      "Cache hit for bubble_edge_all_eq\n",
      "Retrieving bubble_edge_all_eq from cache\n",
      "Done!\n"
     ]
    }
   ],
   "source": [
    "results['bubble'] = autorun_or_cache(bubble, \"bubble\", datasets, SEED, quiet=1)\n",
    "edge_results['bubble'] = run_edge_cases(bubble, \"bubble\", edges, SEED, quiet=1)\n",
    "# s1, c1 = {}, {}"
   ]
  },
  {
   "cell_type": "markdown",
   "id": "cecc80a4-4ad7-4c49-83c5-f1e615e4a714",
   "metadata": {},
   "source": [
    "#### Selection sort.\n",
    "Selection sort scans the entire dataset to find the lowest value over and over again until it runs out of values. It then knows that the list is sorted.\n",
    "\n",
    "Details:\n",
    "```\n",
    "- For each item index in the list:\n",
    "    - For each item after the current index (data[idx+1:])\n",
    "        - Find the highest, and store its index\n",
    "    - Swap the highest with the index\n",
    "```"
   ]
  },
  {
   "cell_type": "code",
   "execution_count": 10,
   "id": "163acb4b-70ef-4373-9caa-d4f32f3fea66",
   "metadata": {},
   "outputs": [],
   "source": [
    "def selection(a: list):\n",
    "    chks = 0\n",
    "    swps = 0\n",
    "    data = copy.copy(a)\n",
    "    n = len(data)\n",
    "    for i in range(n):\n",
    "        m = i\n",
    "        for j in range(i+1, n):\n",
    "            chks += 1\n",
    "            if data[m] >= data[j]:\n",
    "                m = j\n",
    "        swps += 1\n",
    "        general.swp(data, i, m)\n",
    "    return data, swps, chks"
   ]
  },
  {
   "cell_type": "code",
   "execution_count": 11,
   "id": "1a8c2124",
   "metadata": {
    "scrolled": true
   },
   "outputs": [
    {
     "name": "stdout",
     "output_type": "stream",
     "text": [
      "Cache hit for selection\n",
      "Retrieving selection from cache\n",
      "Cache hit for selection_edge_sorted\n",
      "Retrieving selection_edge_sorted from cache\n",
      "Cache hit for selection_edge_reversed\n",
      "Retrieving selection_edge_reversed from cache\n",
      "Cache hit for selection_edge_all_eq\n",
      "Retrieving selection_edge_all_eq from cache\n",
      "Done!\n"
     ]
    }
   ],
   "source": [
    "results['selection'] = autorun_or_cache(selection, \"selection\", datasets, SEED, quiet=1)\n",
    "edge_results['selection'] = run_edge_cases(selection, \"selection\", edges, SEED, quiet=1)"
   ]
  },
  {
   "cell_type": "markdown",
   "id": "f7ee1dd6-f661-4d9b-8bc4-5d3c7e7202ca",
   "metadata": {},
   "source": [
    "#### Insertion sort.\n",
    "Insertion sort builds upon the Sorted area of the list by placing the next item in the correct position relative to the other sorted items.\n",
    "\n",
    "Details:\n",
    "```\n",
    "- For each item index in the list:\n",
    "    - For each item already sorted (left to right):\n",
    "        - When the item in sorted > the item to insert, stop...\n",
    "    - and put the item to insert before the stopping point.\n",
    "```"
   ]
  },
  {
   "cell_type": "code",
   "execution_count": 12,
   "id": "782a6247-1645-420e-a696-bc437ad55f27",
   "metadata": {},
   "outputs": [],
   "source": [
    "def insertion(a: list):\n",
    "    chks = 0\n",
    "    swps = 0\n",
    "    data = copy.copy(a)\n",
    "    n = len(data)\n",
    "    v = None\n",
    "    j = None\n",
    "    for x in range(1, n):\n",
    "        v = data[x]\n",
    "        j = x\n",
    "        chks += 1\n",
    "        while data[j-1] > v and j > 0:\n",
    "            j -= 1\n",
    "            chks += 1\n",
    "        swps += 1\n",
    "        data.pop(x)\n",
    "        data.insert(j, v)\n",
    "    return data, swps, chks"
   ]
  },
  {
   "cell_type": "code",
   "execution_count": 13,
   "id": "169aba7a-7c04-444e-a147-b5107ed588b7",
   "metadata": {},
   "outputs": [
    {
     "name": "stdout",
     "output_type": "stream",
     "text": [
      "Cache hit for insertion\n",
      "Retrieving insertion from cache\n",
      "Cache hit for insertion_edge_sorted\n",
      "Retrieving insertion_edge_sorted from cache\n",
      "Cache hit for insertion_edge_reversed\n",
      "Retrieving insertion_edge_reversed from cache\n",
      "Cache hit for insertion_edge_all_eq\n",
      "Retrieving insertion_edge_all_eq from cache\n",
      "Done!\n"
     ]
    }
   ],
   "source": [
    "results['insertion'] = autorun_or_cache(insertion, \"insertion\", datasets, SEED, quiet=1)\n",
    "edge_results['insertion'] = run_edge_cases(insertion, \"insertion\", edges, SEED, quiet=1)"
   ]
  },
  {
   "cell_type": "markdown",
   "id": "fe71c711-57d4-4098-9236-633141ddce63",
   "metadata": {},
   "source": [
    "#### Shellsort.\n",
    "When a list is \"h-sorted\", taking every *h*th element produces a sorted list. If you start with large values of *h*, you can move elements large distances, leaving less work for the next stages.\n",
    "\n",
    "Effectively, you need a sequence of numbers for *h*, and then repeatedly *h*-sort the list. If the list of *h*s ends with 1, you will get a sorted list."
   ]
  },
  {
   "cell_type": "code",
   "execution_count": 14,
   "id": "02fb116f-4e50-49da-9cec-cb7f8d7eb872",
   "metadata": {},
   "outputs": [],
   "source": [
    "def shellsort(a: list):\n",
    "    chks = 0\n",
    "    swps = 0\n",
    "    data = copy.copy(a)\n",
    "    n = len(data)\n",
    "    h = 1\n",
    "    while h <= n/9:\n",
    "        h = int(3*h + 1)\n",
    "    while h > 0:\n",
    "        for i in range(h, n):\n",
    "            v = data[i]\n",
    "            j = i\n",
    "            chks += 1\n",
    "            while data[j-h] > v and j >= h:\n",
    "                j -= h\n",
    "                chks += 1\n",
    "            swps += 1\n",
    "            data.pop(i)\n",
    "            data.insert(j, v)\n",
    "        h = int(h/3)\n",
    "    return data, swps, chks"
   ]
  },
  {
   "cell_type": "code",
   "execution_count": 15,
   "id": "94bb9a18-a5b0-46d9-a564-bc1f29a0216e",
   "metadata": {},
   "outputs": [
    {
     "name": "stdout",
     "output_type": "stream",
     "text": [
      "Cache hit for shellsort\n",
      "Retrieving shellsort from cache\n",
      "Cache hit for shellsort_edge_sorted\n",
      "Retrieving shellsort_edge_sorted from cache\n",
      "Cache hit for shellsort_edge_reversed\n",
      "Retrieving shellsort_edge_reversed from cache\n",
      "Cache hit for shellsort_edge_all_eq\n",
      "Retrieving shellsort_edge_all_eq from cache\n",
      "Done!\n"
     ]
    }
   ],
   "source": [
    "results['shellsort'] = autorun_or_cache(shellsort, \"shellsort\", datasets, SEED, quiet=1)\n",
    "edge_results['shellsort'] = run_edge_cases(shellsort, \"shellsort\", edges, SEED, quiet=1)"
   ]
  },
  {
   "cell_type": "markdown",
   "id": "5c5e07b3-999b-4617-a92c-e164651ee243",
   "metadata": {},
   "source": [
    "#### Quicksort\n",
    "Split the list into two parts, with a *pivot* element.\n",
    "Every element before the *pivot* should be less than the *pivot*.\n",
    "Every element after the *pivot* should be greater than (or equal to) the *pivot*.\n",
    "\n",
    "Recurse over both halves (not including the *pivot*) afterward.\n",
    "*(if the list is 1 or less items, just return the list)*"
   ]
  },
  {
   "cell_type": "code",
   "execution_count": 16,
   "id": "2acd5c33-823d-451c-8a4a-3e30bebc45de",
   "metadata": {},
   "outputs": [],
   "source": [
    "def quicksort(a: list, left: int = 0, right: int = None, depth: int = 0):\n",
    "    if depth * 2 > 2000:\n",
    "        # IPython crashes on Windows if the recursion limit is exceeded.\n",
    "        raise RecursionError(f'Recursion limit will be exceeded ({depth} branch depth) halting before crash')\n",
    "    n = len(a)\n",
    "    if right is None:\n",
    "        right = n - 1\n",
    "    chks = 0\n",
    "    swps = 0\n",
    "\n",
    "    chks += 1\n",
    "    if right - left < 1:\n",
    "        # Do we even need to do work here?\n",
    "        return a, swps, chks\n",
    "\n",
    "    # partitioning\n",
    "    pivot = a[right]\n",
    "    q = left\n",
    "    j = left\n",
    "    for _ in range(left, right):\n",
    "        target = a[j]\n",
    "        chks += 1\n",
    "        if target <= pivot:\n",
    "            swp(a, j, q)\n",
    "            swps += 1\n",
    "            q += 1\n",
    "        j += 1\n",
    "        if j == right:\n",
    "            break\n",
    "\n",
    "    swp(a, right, q)\n",
    "    # Q is the partition point.\n",
    "\n",
    "    # Recursively apply quicksort to the left and right partitions\n",
    "    a, _1, _2 = quicksort(a, left, q - 1, depth + 1)\n",
    "    a, _3, _4 = quicksort(a, q + 1, right, depth + 1)\n",
    "    chks += _1\n",
    "    chks += _3\n",
    "    swps += _2\n",
    "    swps += _4\n",
    "    return a, swps, chks"
   ]
  },
  {
   "cell_type": "code",
   "execution_count": 17,
   "id": "caa8803f-0ce2-4033-903f-d14c44b0aa1d",
   "metadata": {},
   "outputs": [
    {
     "name": "stdout",
     "output_type": "stream",
     "text": [
      "Cache hit for quicksort\n",
      "Retrieving quicksort from cache\n",
      "Cache hit for quicksort_edge_sorted\n",
      "Retrieving quicksort_edge_sorted from cache\n",
      "Cache hit for quicksort_edge_reversed\n",
      "Retrieving quicksort_edge_reversed from cache\n",
      "Cache hit for quicksort_edge_all_eq\n",
      "Retrieving quicksort_edge_all_eq from cache\n",
      "Done!\n"
     ]
    }
   ],
   "source": [
    "results['quicksort'] = autorun_or_cache(quicksort, \"quicksort\", datasets, SEED, quiet=2)\n",
    "edge_results['quicksort'] = run_edge_cases(quicksort, \"quicksort\", edges, SEED, quiet=2)"
   ]
  },
  {
   "cell_type": "markdown",
   "id": "13247442-2d71-4d05-86cc-a88158ab4e73",
   "metadata": {},
   "source": [
    "#### Mergesort\n",
    "Split the list in half and call mergesort on both halves. Then:\n",
    "```\n",
    "- let A = the first half\n",
    "- let B = the second half\n",
    "- let X = the tracking index in the first half (= 0)\n",
    "- let Y = the tracking index in the second half (= 0)\n",
    "- let C = the list to build on (= [])\n",
    "- While neither A or B are empty:\n",
    "    - Compare element X of A to element Y of B.\n",
    "    - If the element X is greater:\n",
    "        - Pop the first element of A and push it onto C\n",
    "    - Else:\n",
    "        - Pop the first element of B and push it onto C\n",
    "- Then, push the remaining contents of A or B (there will only be one left) onto C\n",
    "```     "
   ]
  },
  {
   "cell_type": "code",
   "execution_count": 18,
   "id": "84dad445-b468-4d47-9a39-6109e3848f1f",
   "metadata": {},
   "outputs": [],
   "source": [
    "def merge(a: list, b: list):\n",
    "    result = []\n",
    "    checks = 0\n",
    "    swaps = 0\n",
    "    while len(a) > 0 and len(b) > 0:\n",
    "        checks += 1\n",
    "        if a[0] < b[0]:\n",
    "            result.append(a.pop(0))\n",
    "        else:\n",
    "            result.append(b.pop(0))\n",
    "        swaps += 1\n",
    "\n",
    "    # Consume rest\n",
    "    while len(a) > 0:\n",
    "        result.append(a.pop(0))\n",
    "        swaps += 1\n",
    "    while len(b) > 0:\n",
    "        result.append(b.pop(0))\n",
    "        swaps += 1\n",
    "    return result, checks, swaps\n",
    "\n",
    "\n",
    "def mergesort(m: list):\n",
    "    if len(m) <= 1:\n",
    "        return m, 0, 0\n",
    "\n",
    "    left = []\n",
    "    right = []\n",
    "    for i, x in enumerate(m):\n",
    "        if i < len(m) // 2:\n",
    "            left.append(x)\n",
    "        else:\n",
    "            right.append(x)\n",
    "\n",
    "    left, c1, s1 = mergesort(left)\n",
    "    right, c2, s2 = mergesort(right)\n",
    "\n",
    "    r, c3, s3 = merge(left, right)\n",
    "\n",
    "    checks = c1 + c2 + c3\n",
    "    swaps = s1 + s2 + s3\n",
    "    return r, checks, swaps"
   ]
  },
  {
   "cell_type": "code",
   "execution_count": 19,
   "id": "be74e8e4-3bd3-4aec-8b5b-fb71208e65a7",
   "metadata": {},
   "outputs": [
    {
     "name": "stdout",
     "output_type": "stream",
     "text": [
      "Cache hit for mergesort\n",
      "Retrieving mergesort from cache\n",
      "Cache hit for mergesort_edge_sorted\n",
      "Retrieving mergesort_edge_sorted from cache\n",
      "Cache hit for mergesort_edge_reversed\n",
      "Retrieving mergesort_edge_reversed from cache\n",
      "Cache hit for mergesort_edge_all_eq\n",
      "Retrieving mergesort_edge_all_eq from cache\n",
      "Done!\n"
     ]
    }
   ],
   "source": [
    "results['mergesort'] = autorun_or_cache(mergesort, \"mergesort\", datasets, SEED, quiet=1)\n",
    "edge_results['mergesort'] = run_edge_cases(mergesort, \"mergesort\", edges, SEED, quiet=1)"
   ]
  },
  {
   "cell_type": "markdown",
   "id": "6c1032b6-6dc1-4657-ab87-d88a49679c1b",
   "metadata": {},
   "source": [
    "### Fancy graph stuff"
   ]
  },
  {
   "cell_type": "code",
   "execution_count": 20,
   "id": "34ea3d3a",
   "metadata": {},
   "outputs": [],
   "source": [
    "import matplotlib.pyplot as plt"
   ]
  },
  {
   "cell_type": "code",
   "execution_count": 21,
   "id": "b106d5ce-f0e3-40e8-9a9e-027b29c7781f",
   "metadata": {},
   "outputs": [],
   "source": [
    "def axis_config(ax, xlabel, ylabel):\n",
    "    # disable scientific notation and offsets\n",
    "    ax.ticklabel_format(useOffset=False, style='plain')\n",
    "    \n",
    "    ax.xaxis.set_label_text(xlabel)\n",
    "    ax.yaxis.set_label_text(ylabel)"
   ]
  },
  {
   "cell_type": "code",
   "execution_count": 22,
   "id": "40c9d920-7960-406e-92fe-f5b5036f8d9e",
   "metadata": {},
   "outputs": [],
   "source": [
    "# unpack results data\n",
    "def unpack_results(data, ax0, ax1, which: list = None):\n",
    "    for k, v in data.items():\n",
    "        if which is not None and k not in which: continue\n",
    "        s, c = v\n",
    "        ax0.plot(c.keys(), c.values(), label=k)\n",
    "        ax1.plot(s.keys(), s.values(), label=k)\n",
    "    ax0.set_title(f\"checks\")\n",
    "    axis_config(ax0, \"Dataset Size (N)\", \"Mean Check Count\")\n",
    "    ax1.set_title(f\"swaps\")\n",
    "    axis_config(ax1, \"Dataset Size (N)\", \"Mean Swap Count\")\n",
    "    ax0.legend()\n",
    "    ax1.legend()"
   ]
  },
  {
   "cell_type": "code",
   "execution_count": 23,
   "id": "0c0386b9-e543-4b6b-97d4-de21385807aa",
   "metadata": {},
   "outputs": [],
   "source": [
    "# unpack a single result (like 'bubble')\n",
    "def unpack_edges(sort_data, ax0, ax1):\n",
    "    for k, v in sort_data.items():\n",
    "        s, c = v\n",
    "        ax0.plot(c.keys(), c.values(), label=k)\n",
    "        ax1.plot(s.keys(), s.values(), label=k)\n",
    "\n",
    "def unpack_all_edges(edata, rdata):\n",
    "    axes = []\n",
    "    for sort_name, data in edata.items():\n",
    "        fig0, ax0 = plt.subplots()\n",
    "        fig1, ax1 = plt.subplots()\n",
    "        unpack_edges(data, ax0, ax1)\n",
    "        s, c = rdata[sort_name]\n",
    "        \n",
    "        ax0.plot(c.keys(), c.values(), label=\"random\")\n",
    "        ax0.set_title(f\"{sort_name} checks\")\n",
    "        axis_config(ax0, \"Dataset Size (N)\", \"Mean Check Count\")\n",
    "        \n",
    "        ax1.plot(s.keys(), s.values(), label=\"random\")\n",
    "        ax1.set_title(f\"{sort_name} swaps\")\n",
    "        axis_config(ax1, \"Dataset Size (N)\", \"Mean Swap Count\")\n",
    "        \n",
    "        ax0.legend()\n",
    "        ax1.legend()\n",
    "        axes.append(ax0)\n",
    "        axes.append(ax1)\n",
    "    return axes"
   ]
  },
  {
   "cell_type": "markdown",
   "id": "7ca5ce66-565f-4bc5-b912-102a9b40a531",
   "metadata": {},
   "source": [
    "# Graphs\n",
    "Graphs of performance metrics.\n",
    "### Large amounts of images ahead!"
   ]
  },
  {
   "cell_type": "markdown",
   "id": "2b4e73ff-2a37-428a-85b0-d87a3c6c37c1",
   "metadata": {},
   "source": [
    "## Performance targets (checks)\n",
    "* Bubble sort is `O(N^2)` on average / worst, and `O(N)` at best\n",
    "* Selection sort is `O(N^2)` every time\n",
    "* Insertion sort is `O(N^2)` on average / worst, and `O(N)` at best\n",
    "* Shellsort is `O(N^2)` at worst, `O(N log N)` at best.\n",
    "Shellsort efficiency is complicated by the fact that the sorting sequence changes the performance.\n",
    "* Quicksort is `O(N^2)` at worst, and `O(N log N)` on average and at best\n",
    "* Merge sort is `O(N log N)` all the time"
   ]
  },
  {
   "cell_type": "code",
   "execution_count": 2,
   "id": "3c5a60ae-9675-4b1a-a60b-35cd1f727dd4",
   "metadata": {
    "scrolled": true,
    "tags": []
   },
   "outputs": [
    {
     "ename": "NameError",
     "evalue": "name 'unpack_all_edges' is not defined",
     "output_type": "error",
     "traceback": [
      "\u001b[1;31m---------------------------------------------------------------------------\u001b[0m",
      "\u001b[1;31mNameError\u001b[0m                                 Traceback (most recent call last)",
      "\u001b[1;32m<ipython-input-2-6e31448d1395>\u001b[0m in \u001b[0;36m<module>\u001b[1;34m\u001b[0m\n\u001b[1;32m----> 1\u001b[1;33m \u001b[0munpack_all_edges\u001b[0m\u001b[1;33m(\u001b[0m\u001b[0medge_results\u001b[0m\u001b[1;33m,\u001b[0m \u001b[0mresults\u001b[0m\u001b[1;33m)\u001b[0m\u001b[1;33m\u001b[0m\u001b[1;33m\u001b[0m\u001b[0m\n\u001b[0m\u001b[0;32m      2\u001b[0m \u001b[1;31m# scroll this box to see all the fancy graphs\u001b[0m\u001b[1;33m\u001b[0m\u001b[1;33m\u001b[0m\u001b[1;33m\u001b[0m\u001b[0m\n",
      "\u001b[1;31mNameError\u001b[0m: name 'unpack_all_edges' is not defined"
     ]
    }
   ],
   "source": [
    "unpack_all_edges(edge_results, results)\n",
    "# scroll this box to see all the fancy graphs"
   ]
  },
  {
   "cell_type": "code",
   "execution_count": 25,
   "id": "c4fa3e4a-f802-4a36-ac67-6cda33f90cf1",
   "metadata": {},
   "outputs": [
    {
     "data": {
      "image/png": "[encoded data removed]",
      "text/plain": [
       "<Figure size 432x288 with 1 Axes>"
      ]
     },
     "metadata": {
      "needs_background": "light"
     },
     "output_type": "display_data"
    },
    {
     "data": {
      "image/png": "[encoded data removed]",
      "text/plain": [
       "<Figure size 432x288 with 1 Axes>"
      ]
     },
     "metadata": {
      "needs_background": "light"
     },
     "output_type": "display_data"
    }
   ],
   "source": [
    "fig0, ax0 = plt.subplots()\n",
    "fig1, ax1 = plt.subplots()\n",
    "unpack_results(results, ax0, ax1)"
   ]
  },
  {
   "cell_type": "code",
   "execution_count": 26,
   "id": "f442d38a-24d7-428d-a4b3-3cbc9d58c0db",
   "metadata": {},
   "outputs": [
    {
     "data": {
      "image/png": "[encoded data removed]",
      "text/plain": [
       "<Figure size 432x288 with 1 Axes>"
      ]
     },
     "metadata": {
      "needs_background": "light"
     },
     "output_type": "display_data"
    },
    {
     "data": {
      "image/png": "[encoded data removed]",
      "text/plain": [
       "<Figure size 432x288 with 1 Axes>"
      ]
     },
     "metadata": {
      "needs_background": "light"
     },
     "output_type": "display_data"
    }
   ],
   "source": [
    "# no bubble sort\n",
    "fig0, ax0 = plt.subplots()\n",
    "fig1, ax1 = plt.subplots()\n",
    "unpack_results(results, ax0, ax1, ['selection', 'insertion', 'shellsort', 'quicksort', 'mergesort'])"
   ]
  },
  {
   "cell_type": "code",
   "execution_count": 27,
   "id": "3ef5044f-c0c3-47ff-9576-fbfe7116be30",
   "metadata": {},
   "outputs": [
    {
     "data": {
      "image/png": "[encoded data removed]",
      "text/plain": [
       "<Figure size 432x288 with 1 Axes>"
      ]
     },
     "metadata": {
      "needs_background": "light"
     },
     "output_type": "display_data"
    },
    {
     "data": {
      "image/png": "[encoded data removed]",
      "text/plain": [
       "<Figure size 432x288 with 1 Axes>"
      ]
     },
     "metadata": {
      "needs_background": "light"
     },
     "output_type": "display_data"
    }
   ],
   "source": [
    "# no selection, insertion sort\n",
    "fig0, ax0 = plt.subplots()\n",
    "fig1, ax1 = plt.subplots()\n",
    "unpack_results(results, ax0, ax1, ['shellsort', 'quicksort', 'mergesort'])"
   ]
  },
  {
   "cell_type": "code",
   "execution_count": 1,
   "id": "734e9af8-29ca-43f1-84d9-7aa7f973a5bd",
   "metadata": {},
   "outputs": [
    {
     "ename": "NameError",
     "evalue": "name 'plt' is not defined",
     "output_type": "error",
     "traceback": [
      "\u001b[1;31m---------------------------------------------------------------------------\u001b[0m",
      "\u001b[1;31mNameError\u001b[0m                                 Traceback (most recent call last)",
      "\u001b[1;32m<ipython-input-1-d285cdaec4c2>\u001b[0m in \u001b[0;36m<module>\u001b[1;34m\u001b[0m\n\u001b[0;32m      1\u001b[0m \u001b[1;31m# no shellsort\u001b[0m\u001b[1;33m\u001b[0m\u001b[1;33m\u001b[0m\u001b[1;33m\u001b[0m\u001b[0m\n\u001b[1;32m----> 2\u001b[1;33m \u001b[0mfig0\u001b[0m\u001b[1;33m,\u001b[0m \u001b[0max0\u001b[0m \u001b[1;33m=\u001b[0m \u001b[0mplt\u001b[0m\u001b[1;33m.\u001b[0m\u001b[0msubplots\u001b[0m\u001b[1;33m(\u001b[0m\u001b[1;33m)\u001b[0m\u001b[1;33m\u001b[0m\u001b[1;33m\u001b[0m\u001b[0m\n\u001b[0m\u001b[0;32m      3\u001b[0m \u001b[0mfig1\u001b[0m\u001b[1;33m,\u001b[0m \u001b[0max1\u001b[0m \u001b[1;33m=\u001b[0m \u001b[0mplt\u001b[0m\u001b[1;33m.\u001b[0m\u001b[0msubplots\u001b[0m\u001b[1;33m(\u001b[0m\u001b[1;33m)\u001b[0m\u001b[1;33m\u001b[0m\u001b[1;33m\u001b[0m\u001b[0m\n\u001b[0;32m      4\u001b[0m \u001b[0munpack_results\u001b[0m\u001b[1;33m(\u001b[0m\u001b[0mresults\u001b[0m\u001b[1;33m,\u001b[0m \u001b[0max0\u001b[0m\u001b[1;33m,\u001b[0m \u001b[0max1\u001b[0m\u001b[1;33m,\u001b[0m \u001b[1;33m[\u001b[0m\u001b[1;34m'quicksort'\u001b[0m\u001b[1;33m,\u001b[0m \u001b[1;34m'mergesort'\u001b[0m\u001b[1;33m]\u001b[0m\u001b[1;33m)\u001b[0m\u001b[1;33m\u001b[0m\u001b[1;33m\u001b[0m\u001b[0m\n",
      "\u001b[1;31mNameError\u001b[0m: name 'plt' is not defined"
     ]
    }
   ],
   "source": [
    "# no shellsort\n",
    "fig0, ax0 = plt.subplots()\n",
    "fig1, ax1 = plt.subplots()\n",
    "unpack_results(results, ax0, ax1, ['quicksort', 'mergesort'])"
   ]
  },
  {
   "cell_type": "markdown",
   "id": "3004c748-0554-4f33-9656-1b2b70c136e5",
   "metadata": {},
   "source": [
    "# Conclusion\n",
    "In general, you should probably use shellsort, quicksort, or mergesort for general use cases.\n",
    "There are a few downsides to each, though:\n",
    "* Shellsort is slower than the other two, but isn't recursive\n",
    "* Quicksort (in this implementation) has *terrible* performance worst-case, using *N* recursive calls\n",
    "* Mergesort is better than Quicksort on the recursion front, using only $\\log_{2}(N)$ splits\n",
    "\n",
    "If you don't care about memory: use Mergesort?\n",
    "\n",
    "If you care about memory: use Shellsort."
   ]
  },
  {
   "cell_type": "code",
   "execution_count": null,
   "id": "bdbf031a-83e0-41c0-9194-a4c54afeeb16",
   "metadata": {},
   "outputs": [],
   "source": []
  }
 ],
 "metadata": {
  "kernelspec": {
   "display_name": "Python 3",
   "language": "python",
   "name": "python3"
  },
  "language_info": {
   "codemirror_mode": {
    "name": "ipython",
    "version": 3
   },
   "file_extension": ".py",
   "mimetype": "text/x-python",
   "name": "python",
   "nbconvert_exporter": "python",
   "pygments_lexer": "ipython3",
   "version": "3.8.8"
  },
  "vscode": {
   "interpreter": {
    "hash": "e3d2f0fa7a27169bd0b7fc36e91de462ab4c01f726033cb247055c6f86f2baf0"
   }
  }
 },
 "nbformat": 4,
 "nbformat_minor": 5
}
